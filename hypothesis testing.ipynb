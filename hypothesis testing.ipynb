{
 "cells": [
  {
   "cell_type": "code",
   "execution_count": 1,
   "id": "23f4da72",
   "metadata": {},
   "outputs": [],
   "source": [
    "import numpy as np\n",
    "from scipy import stats"
   ]
  },
  {
   "cell_type": "code",
   "execution_count": 2,
   "id": "ed276728",
   "metadata": {},
   "outputs": [],
   "source": [
    "# collect data for patient before treatment\n",
    "patient_before = np.random.randint(110, 130, (10))"
   ]
  },
  {
   "cell_type": "code",
   "execution_count": 3,
   "id": "c113a8ea",
   "metadata": {},
   "outputs": [
    {
     "data": {
      "text/plain": [
       "array([119, 112, 113, 129, 118, 125, 127, 111, 124, 124])"
      ]
     },
     "execution_count": 3,
     "metadata": {},
     "output_type": "execute_result"
    }
   ],
   "source": [
    "patient_before"
   ]
  },
  {
   "cell_type": "code",
   "execution_count": 4,
   "id": "b340db11",
   "metadata": {},
   "outputs": [],
   "source": [
    "# collect data for patient after treatment\n",
    "patient_after = np.random.randint(125, 135, (10))"
   ]
  },
  {
   "cell_type": "code",
   "execution_count": 5,
   "id": "e7e27521",
   "metadata": {},
   "outputs": [
    {
     "data": {
      "text/plain": [
       "array([132, 131, 128, 126, 134, 131, 129, 134, 130, 128])"
      ]
     },
     "execution_count": 5,
     "metadata": {},
     "output_type": "execute_result"
    }
   ],
   "source": [
    "patient_after"
   ]
  },
  {
   "cell_type": "code",
   "execution_count": 6,
   "id": "cd024f32",
   "metadata": {},
   "outputs": [],
   "source": [
    "# step 1: prepare null and alternative hypothesis\n",
    "\n",
    "null_hypothesis = 'new drug has no effect on the patient'\n",
    "\n",
    "alt_hypothesis = 'new drug effects the patient'"
   ]
  },
  {
   "cell_type": "code",
   "execution_count": 7,
   "id": "affbdfea",
   "metadata": {},
   "outputs": [],
   "source": [
    "# step 2: significance level\n",
    "alpha = 0.05"
   ]
  },
  {
   "cell_type": "code",
   "execution_count": 8,
   "id": "246d18b9",
   "metadata": {},
   "outputs": [],
   "source": [
    "# step 3: paire t- test \n",
    "t_stat, p_value = stats.ttest_rel(patient_before, patient_after)"
   ]
  },
  {
   "cell_type": "code",
   "execution_count": 9,
   "id": "f886a4b5",
   "metadata": {},
   "outputs": [
    {
     "data": {
      "text/plain": [
       "-3.845313906575519"
      ]
     },
     "execution_count": 9,
     "metadata": {},
     "output_type": "execute_result"
    }
   ],
   "source": [
    "t_stat"
   ]
  },
  {
   "cell_type": "code",
   "execution_count": 10,
   "id": "6cc9c3f0",
   "metadata": {},
   "outputs": [
    {
     "data": {
      "text/plain": [
       "0.003934410386871257"
      ]
     },
     "execution_count": 10,
     "metadata": {},
     "output_type": "execute_result"
    }
   ],
   "source": [
    "p_value"
   ]
  },
  {
   "cell_type": "code",
   "execution_count": 11,
   "id": "9dde5737",
   "metadata": {},
   "outputs": [],
   "source": [
    "# step 4: calculate t - stats manually \n",
    "\n",
    "m = np.mean(patient_after - patient_before)\n",
    "\n",
    "s = np.std(patient_after - patient_before , ddof=1)\n",
    "\n",
    "n = len(patient_before)"
   ]
  },
  {
   "cell_type": "code",
   "execution_count": 12,
   "id": "09d38033",
   "metadata": {},
   "outputs": [],
   "source": [
    "manual_t_stats = m/(s/np.sqrt(n))"
   ]
  },
  {
   "cell_type": "code",
   "execution_count": 13,
   "id": "15e5dcd9",
   "metadata": {},
   "outputs": [
    {
     "data": {
      "text/plain": [
       "3.845313906575519"
      ]
     },
     "execution_count": 13,
     "metadata": {},
     "output_type": "execute_result"
    }
   ],
   "source": [
    "manual_t_stats"
   ]
  },
  {
   "cell_type": "code",
   "execution_count": 14,
   "id": "31e2dbf0",
   "metadata": {},
   "outputs": [],
   "source": [
    "# step 5: decision\n",
    "\n",
    "if p_value <= alpha:\n",
    "    \n",
    "    decision = 'Reject'\n",
    "    \n",
    "else:\n",
    "    \n",
    "    decision = 'Failed to reject'\n",
    "    \n",
    "    "
   ]
  },
  {
   "cell_type": "code",
   "execution_count": 15,
   "id": "2cd92e71",
   "metadata": {},
   "outputs": [],
   "source": [
    "# step 6: conclusion\n",
    "\n",
    "if decision == \"Reject\":\n",
    "    conclusion = \"it statistically proves that new drug effects the patient\"\n",
    "    \n",
    "else:\n",
    "    conclusion = \"The new dug has no effect on the patient\""
   ]
  },
  {
   "cell_type": "code",
   "execution_count": 16,
   "id": "3efd930d",
   "metadata": {},
   "outputs": [
    {
     "name": "stdout",
     "output_type": "stream",
     "text": [
      "ttest_stats from scipy is -3.845313906575519\n",
      "P value from scipy is 0.003934410386871257\n",
      "Manual t_statistics are 3.845313906575519\n",
      "The decision Reject the null hypothesis at alpha = 0.05\n",
      "conclusion is it statistically proves that new drug effects the patient\n"
     ]
    }
   ],
   "source": [
    "# the result.\n",
    "\n",
    "print(f'ttest_stats from scipy is {t_stat}')\n",
    "print(f'P value from scipy is {p_value}')\n",
    "print(f'Manual t_statistics are {manual_t_stats}')\n",
    "print(f'The decision {decision} the null hypothesis at alpha = {alpha}')\n",
    "print(f'conclusion is {conclusion}')"
   ]
  },
  {
   "cell_type": "code",
   "execution_count": null,
   "id": "ca755b13",
   "metadata": {},
   "outputs": [],
   "source": []
  }
 ],
 "metadata": {
  "kernelspec": {
   "display_name": "Python 3 (ipykernel)",
   "language": "python",
   "name": "python3"
  },
  "language_info": {
   "codemirror_mode": {
    "name": "ipython",
    "version": 3
   },
   "file_extension": ".py",
   "mimetype": "text/x-python",
   "name": "python",
   "nbconvert_exporter": "python",
   "pygments_lexer": "ipython3",
   "version": "3.9.12"
  }
 },
 "nbformat": 4,
 "nbformat_minor": 5
}
